{
 "cells": [
  {
   "cell_type": "code",
   "execution_count": null,
   "id": "9f34b550",
   "metadata": {},
   "outputs": [],
   "source": [
    "# if/else/elif shartlar orqali malumotlarni boshqarish"
   ]
  },
  {
   "cell_type": "code",
   "execution_count": null,
   "id": "1c1c54c2",
   "metadata": {},
   "outputs": [],
   "source": [
    "# gagar berilgan soz uzunligi 5 ga teng bo'lsa 'ruhsat' aksxolda 'parol xato 'degan sozni ekranga chiqarish\n",
    "# if    str   l=5     print('ruhsat')  else print ('parol xato')"
   ]
  },
  {
   "cell_type": "code",
   "execution_count": null,
   "id": "9e91b5e9",
   "metadata": {},
   "outputs": [],
   "source": [
    "#  qisimlarga ajatish\n"
   ]
  },
  {
   "cell_type": "code",
   "execution_count": 1,
   "id": "dab7463a",
   "metadata": {},
   "outputs": [
    {
     "name": "stdout",
     "output_type": "stream",
     "text": [
      "ruxsat\n"
     ]
    }
   ],
   "source": [
    "s='Hello'\n",
    "if len(s)==5:\n",
    "    print('ruxsat')\n",
    "else:\n",
    "    print('parol xato')  \n",
    "     "
   ]
  },
  {
   "cell_type": "code",
   "execution_count": 2,
   "id": "c9ffc96a",
   "metadata": {},
   "outputs": [
    {
     "name": "stdout",
     "output_type": "stream",
     "text": [
      "Adashding\n"
     ]
    }
   ],
   "source": [
    "a='Hush kelding'\n",
    "if len(a)==7:\n",
    "    print('togri')\n",
    "else:\n",
    "    print('Adashding')"
   ]
  },
  {
   "cell_type": "code",
   "execution_count": 3,
   "id": "7b6c4302",
   "metadata": {},
   "outputs": [
    {
     "name": "stdout",
     "output_type": "stream",
     "text": [
      "Aniq\n"
     ]
    }
   ],
   "source": [
    "y='Tinch'\n",
    "if len(y)==5:\n",
    "    print('Aniq')\n",
    "else:\n",
    "    print('Noaniq')"
   ]
  },
  {
   "cell_type": "code",
   "execution_count": 5,
   "id": "9e3ee200",
   "metadata": {},
   "outputs": [
    {
     "name": "stdout",
     "output_type": "stream",
     "text": [
      "Xato\n"
     ]
    }
   ],
   "source": [
    "r='Hello'\n",
    "if len(r)>7:\n",
    "    print('Togri')\n",
    "else:\n",
    "    print('Xato')"
   ]
  },
  {
   "cell_type": "code",
   "execution_count": 6,
   "id": "0f68fb77",
   "metadata": {},
   "outputs": [
    {
     "name": "stdout",
     "output_type": "stream",
     "text": [
      "Birga teng\n"
     ]
    }
   ],
   "source": [
    "# agarmusbat bolsa ok manfi yolsa good nolga teng bolsa nol degan sozni ekranga chiqar\n",
    "a=1\n",
    "if a<0:\n",
    "    print('XAtoto')\n",
    "if a>2:\n",
    "    print('Umuman xato')\n",
    "else:\n",
    "    print('Birga teng')\n",
    "\n",
    "\n",
    "    \n",
    "\n",
    "\n"
   ]
  },
  {
   "cell_type": "code",
   "execution_count": 9,
   "id": "44cbffa5",
   "metadata": {},
   "outputs": [
    {
     "name": "stdout",
     "output_type": "stream",
     "text": [
      "Yaxshi\n",
      "Qabul\n"
     ]
    }
   ],
   "source": [
    "baxo=4\n",
    "if baxo==5:\n",
    "    print('Alo')\n",
    "if baxo==4:\n",
    "    print('Yaxshi')\n",
    "if baxo==3:\n",
    "    print('Qoniqarli')\n",
    "if baxo==2:\n",
    "    print('Yomon')\n",
    "if baxo==1:\n",
    "    print('Juda yomon')\n",
    "if baxo==0:\n",
    "    print('F')\n",
    "else:\n",
    "    print('Qabul')\n"
   ]
  },
  {
   "cell_type": "code",
   "execution_count": 20,
   "id": "5ce8adb5",
   "metadata": {},
   "outputs": [
    {
     "name": "stdout",
     "output_type": "stream",
     "text": [
      "Normal xarorat\n",
      "xatolik bor\n"
     ]
    }
   ],
   "source": [
    "# sistema xarorati  berilgan gradusdan tushganda yoki kotarilgandagi shu sistemadagi qiymatlarga mos so'zlar ekranga chiqsi\n",
    "u=58\n",
    "if u==87:\n",
    "    print('Juda xavfli')\n",
    "if u==58:\n",
    "    print('Normal xarorat')\n",
    "if u==45:\n",
    "    print('Eng orta iqlim')\n",
    "if u==23:\n",
    "    print('Juda past xarorat')\n",
    "if u==11:\n",
    "    print('Xavf kutulmoqda')\n",
    "else:\n",
    "    print('xatolik bor')"
   ]
  },
  {
   "cell_type": "code",
   "execution_count": 24,
   "id": "a927d486",
   "metadata": {},
   "outputs": [
    {
     "name": "stdout",
     "output_type": "stream",
     "text": [
      "togri\n"
     ]
    }
   ],
   "source": [
    "a=0\n",
    "if a<3:\n",
    "    print('togri')\n",
    "elif a<1:\n",
    "    print('Javobga yaqin') \n",
    "else:\n",
    "    print('Nolga teng')\n",
    "\n"
   ]
  },
  {
   "cell_type": "code",
   "execution_count": null,
   "id": "d27cb19c",
   "metadata": {},
   "outputs": [],
   "source": []
  }
 ],
 "metadata": {
  "kernelspec": {
   "display_name": "Python 3",
   "language": "python",
   "name": "python3"
  },
  "language_info": {
   "codemirror_mode": {
    "name": "ipython",
    "version": 3
   },
   "file_extension": ".py",
   "mimetype": "text/x-python",
   "name": "python",
   "nbconvert_exporter": "python",
   "pygments_lexer": "ipython3",
   "version": "3.11.9"
  }
 },
 "nbformat": 4,
 "nbformat_minor": 5
}
