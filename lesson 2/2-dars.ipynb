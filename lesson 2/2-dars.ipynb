{
 "cells": [
  {
   "cell_type": "markdown",
   "id": "826d5048",
   "metadata": {},
   "source": [
    "# Conditions"
   ]
  },
  {
   "cell_type": "code",
   "execution_count": null,
   "id": "35afc81f",
   "metadata": {},
   "outputs": [],
   "source": [
    "#if/else/elif --- shartlar orqali malumotlarni boshqarish\n"
   ]
  },
  {
   "cell_type": "code",
   "execution_count": null,
   "id": "275911eb",
   "metadata": {},
   "outputs": [],
   "source": [
    "#agar/ berilgan so'z/ uzunligi 5 ga teng bolsa 'ruxsat' aks xolda 'parol xato degan so'zni ekrang chiqaring'\n",
    "# if             str   len=5   operations                 print('ruxsat')  else print('parol xato')"
   ]
  },
  {
   "cell_type": "code",
   "execution_count": null,
   "id": "c227089f",
   "metadata": {},
   "outputs": [],
   "source": [
    "# Qismlarga ajratish"
   ]
  },
  {
   "cell_type": "code",
   "execution_count": 3,
   "id": "8ca7f561",
   "metadata": {},
   "outputs": [
    {
     "name": "stdout",
     "output_type": "stream",
     "text": [
      "ruxsat\n"
     ]
    }
   ],
   "source": [
    "s='Hell0'\n",
    "if len(s)==5:\n",
    "    print('ruxsat')\n",
    "else:\n",
    "    print('parol xato')\n",
    "\n",
    "\n"
   ]
  },
  {
   "cell_type": "code",
   "execution_count": null,
   "id": "12eec943",
   "metadata": {},
   "outputs": [
    {
     "name": "stdout",
     "output_type": "stream",
     "text": [
      "Nolga teng\n"
     ]
    }
   ],
   "source": [
    "# Agar musbat bolsa ok manfiy bolsa good  nolga teng bolsa nol degan sozni ekranga chiqaring \n",
    "a=0\n",
    "if a>0:\n",
    "    print('ok')\n",
    "elif a<0:\n",
    "    print('Good')\n",
    "\n",
    "else:\n",
    "    print('Nolga teng')\n"
   ]
  },
  {
   "cell_type": "code",
   "execution_count": 7,
   "id": "c26fec07",
   "metadata": {},
   "outputs": [
    {
     "name": "stdout",
     "output_type": "stream",
     "text": [
      "ortacha\n"
     ]
    }
   ],
   "source": [
    "#\n",
    "baxo=3\n",
    "if baxo==5:\n",
    "    print('alo')\n",
    "elif baxo==4:\n",
    "    print('yaxshi')\n",
    "elif baxo==3:\n",
    "    print('ortacha')\n",
    "elif baxo==2:\n",
    "    print('yomon')\n",
    "else:\n",
    "    print('juda yomon')"
   ]
  },
  {
   "cell_type": "code",
   "execution_count": null,
   "id": "d869211e",
   "metadata": {},
   "outputs": [],
   "source": []
  }
 ],
 "metadata": {
  "kernelspec": {
   "display_name": "base",
   "language": "python",
   "name": "python3"
  },
  "language_info": {
   "codemirror_mode": {
    "name": "ipython",
    "version": 3
   },
   "file_extension": ".py",
   "mimetype": "text/x-python",
   "name": "python",
   "nbconvert_exporter": "python",
   "pygments_lexer": "ipython3",
   "version": "3.11.7"
  }
 },
 "nbformat": 4,
 "nbformat_minor": 5
}
